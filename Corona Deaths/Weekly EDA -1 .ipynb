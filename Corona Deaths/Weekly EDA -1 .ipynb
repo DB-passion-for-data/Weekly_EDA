{
 "cells": [
  {
   "cell_type": "code",
   "execution_count": 1,
   "id": "comparable-biography",
   "metadata": {},
   "outputs": [],
   "source": [
    "# importing libraries"
   ]
  },
  {
   "cell_type": "code",
   "execution_count": 2,
   "id": "static-resident",
   "metadata": {},
   "outputs": [],
   "source": [
    "import pandas as pd\n",
    "import numpy as np\n",
    "import matplotlib.pyplot as plt\n",
    "import seaborn as sns"
   ]
  },
  {
   "cell_type": "markdown",
   "id": "facial-bubble",
   "metadata": {},
   "source": [
    "<img src = \"https://assets.fontsinuse.com/static/use-media-items/108/107096/full-1300x600/5e67b80f/CDC-logo.png\"></img>"
   ]
  },
  {
   "cell_type": "markdown",
   "id": "fiscal-characterization",
   "metadata": {},
   "source": [
    "dataset courtesy : https://data.cdc.gov/NCHS/Conditions-contributing-to-deaths-involving-corona/hk9y-quqm"
   ]
  },
  {
   "cell_type": "code",
   "execution_count": 3,
   "id": "exciting-least",
   "metadata": {},
   "outputs": [
    {
     "data": {
      "text/html": [
       "<div>\n",
       "<style scoped>\n",
       "    .dataframe tbody tr th:only-of-type {\n",
       "        vertical-align: middle;\n",
       "    }\n",
       "\n",
       "    .dataframe tbody tr th {\n",
       "        vertical-align: top;\n",
       "    }\n",
       "\n",
       "    .dataframe thead th {\n",
       "        text-align: right;\n",
       "    }\n",
       "</style>\n",
       "<table border=\"1\" class=\"dataframe\">\n",
       "  <thead>\n",
       "    <tr style=\"text-align: right;\">\n",
       "      <th></th>\n",
       "      <th>Data As Of</th>\n",
       "      <th>Start Date</th>\n",
       "      <th>End Date</th>\n",
       "      <th>Group</th>\n",
       "      <th>Year</th>\n",
       "      <th>Month</th>\n",
       "      <th>State</th>\n",
       "      <th>Condition Group</th>\n",
       "      <th>Condition</th>\n",
       "      <th>ICD10_codes</th>\n",
       "      <th>Age Group</th>\n",
       "      <th>COVID-19 Deaths</th>\n",
       "      <th>Number of Mentions</th>\n",
       "      <th>Flag</th>\n",
       "    </tr>\n",
       "  </thead>\n",
       "  <tbody>\n",
       "    <tr>\n",
       "      <th>0</th>\n",
       "      <td>04/25/2021</td>\n",
       "      <td>01/01/2020</td>\n",
       "      <td>04/24/2021</td>\n",
       "      <td>By Total</td>\n",
       "      <td>NaN</td>\n",
       "      <td>NaN</td>\n",
       "      <td>United States</td>\n",
       "      <td>Respiratory diseases</td>\n",
       "      <td>Influenza and pneumonia</td>\n",
       "      <td>J09-J18</td>\n",
       "      <td>0-24</td>\n",
       "      <td>370.0</td>\n",
       "      <td>384.0</td>\n",
       "      <td>NaN</td>\n",
       "    </tr>\n",
       "    <tr>\n",
       "      <th>1</th>\n",
       "      <td>04/25/2021</td>\n",
       "      <td>01/01/2020</td>\n",
       "      <td>04/24/2021</td>\n",
       "      <td>By Total</td>\n",
       "      <td>NaN</td>\n",
       "      <td>NaN</td>\n",
       "      <td>United States</td>\n",
       "      <td>Respiratory diseases</td>\n",
       "      <td>Influenza and pneumonia</td>\n",
       "      <td>J09-J18</td>\n",
       "      <td>25-34</td>\n",
       "      <td>1692.0</td>\n",
       "      <td>1731.0</td>\n",
       "      <td>NaN</td>\n",
       "    </tr>\n",
       "    <tr>\n",
       "      <th>2</th>\n",
       "      <td>04/25/2021</td>\n",
       "      <td>01/01/2020</td>\n",
       "      <td>04/24/2021</td>\n",
       "      <td>By Total</td>\n",
       "      <td>NaN</td>\n",
       "      <td>NaN</td>\n",
       "      <td>United States</td>\n",
       "      <td>Respiratory diseases</td>\n",
       "      <td>Influenza and pneumonia</td>\n",
       "      <td>J09-J18</td>\n",
       "      <td>35-44</td>\n",
       "      <td>4548.0</td>\n",
       "      <td>4664.0</td>\n",
       "      <td>NaN</td>\n",
       "    </tr>\n",
       "    <tr>\n",
       "      <th>3</th>\n",
       "      <td>04/25/2021</td>\n",
       "      <td>01/01/2020</td>\n",
       "      <td>04/24/2021</td>\n",
       "      <td>By Total</td>\n",
       "      <td>NaN</td>\n",
       "      <td>NaN</td>\n",
       "      <td>United States</td>\n",
       "      <td>Respiratory diseases</td>\n",
       "      <td>Influenza and pneumonia</td>\n",
       "      <td>J09-J18</td>\n",
       "      <td>45-54</td>\n",
       "      <td>13587.0</td>\n",
       "      <td>13964.0</td>\n",
       "      <td>NaN</td>\n",
       "    </tr>\n",
       "    <tr>\n",
       "      <th>4</th>\n",
       "      <td>04/25/2021</td>\n",
       "      <td>01/01/2020</td>\n",
       "      <td>04/24/2021</td>\n",
       "      <td>By Total</td>\n",
       "      <td>NaN</td>\n",
       "      <td>NaN</td>\n",
       "      <td>United States</td>\n",
       "      <td>Respiratory diseases</td>\n",
       "      <td>Influenza and pneumonia</td>\n",
       "      <td>J09-J18</td>\n",
       "      <td>55-64</td>\n",
       "      <td>34936.0</td>\n",
       "      <td>35852.0</td>\n",
       "      <td>NaN</td>\n",
       "    </tr>\n",
       "  </tbody>\n",
       "</table>\n",
       "</div>"
      ],
      "text/plain": [
       "   Data As Of  Start Date    End Date     Group  Year  Month          State  \\\n",
       "0  04/25/2021  01/01/2020  04/24/2021  By Total   NaN    NaN  United States   \n",
       "1  04/25/2021  01/01/2020  04/24/2021  By Total   NaN    NaN  United States   \n",
       "2  04/25/2021  01/01/2020  04/24/2021  By Total   NaN    NaN  United States   \n",
       "3  04/25/2021  01/01/2020  04/24/2021  By Total   NaN    NaN  United States   \n",
       "4  04/25/2021  01/01/2020  04/24/2021  By Total   NaN    NaN  United States   \n",
       "\n",
       "        Condition Group                Condition ICD10_codes Age Group  \\\n",
       "0  Respiratory diseases  Influenza and pneumonia     J09-J18      0-24   \n",
       "1  Respiratory diseases  Influenza and pneumonia     J09-J18     25-34   \n",
       "2  Respiratory diseases  Influenza and pneumonia     J09-J18     35-44   \n",
       "3  Respiratory diseases  Influenza and pneumonia     J09-J18     45-54   \n",
       "4  Respiratory diseases  Influenza and pneumonia     J09-J18     55-64   \n",
       "\n",
       "   COVID-19 Deaths  Number of Mentions Flag  \n",
       "0            370.0               384.0  NaN  \n",
       "1           1692.0              1731.0  NaN  \n",
       "2           4548.0              4664.0  NaN  \n",
       "3          13587.0             13964.0  NaN  \n",
       "4          34936.0             35852.0  NaN  "
      ]
     },
     "execution_count": 3,
     "metadata": {},
     "output_type": "execute_result"
    }
   ],
   "source": [
    "# calling in data\n",
    "data = pd.read_csv(\"/home/db/Documents/Datasets/COVID-19.csv\")\n",
    "data.head()"
   ]
  },
  {
   "cell_type": "markdown",
   "id": "otherwise-homework",
   "metadata": {},
   "source": [
    "## Part-1"
   ]
  },
  {
   "cell_type": "markdown",
   "id": "regulation-heating",
   "metadata": {},
   "source": [
    "### Grouping according to condition and pointing out more common problems contributing to covid deaths."
   ]
  },
  {
   "cell_type": "code",
   "execution_count": 4,
   "id": "provincial-paint",
   "metadata": {},
   "outputs": [
    {
     "data": {
      "text/plain": [
       "Circulatory diseases                                                         71820\n",
       "Respiratory diseases                                                         61560\n",
       "Obesity                                                                      10260\n",
       "COVID-19                                                                     10260\n",
       "Sepsis                                                                       10260\n",
       "Vascular and unspecified dementia                                            10260\n",
       "Renal failure                                                                10260\n",
       "Intentional and unintentional injury, poisoning, and other adverse events    10260\n",
       "All other conditions and causes (residual)                                   10260\n",
       "Diabetes                                                                     10260\n",
       "Alzheimer disease                                                            10260\n",
       "Malignant neoplasms                                                          10260\n",
       "Name: Condition Group, dtype: int64"
      ]
     },
     "execution_count": 4,
     "metadata": {},
     "output_type": "execute_result"
    }
   ],
   "source": [
    "data[\"Condition Group\"].value_counts()"
   ]
  },
  {
   "cell_type": "markdown",
   "id": "acquired-shoot",
   "metadata": {},
   "source": [
    "There are 12 condition groups."
   ]
  },
  {
   "cell_type": "code",
   "execution_count": 5,
   "id": "technological-cylinder",
   "metadata": {},
   "outputs": [
    {
     "data": {
      "text/plain": [
       "<AxesSubplot:xlabel='Condition'>"
      ]
     },
     "execution_count": 5,
     "metadata": {},
     "output_type": "execute_result"
    },
    {
     "data": {
      "image/png": "[encoded data removed]",
      "text/plain": [
       "<Figure size 1080x576 with 1 Axes>"
      ]
     },
     "metadata": {
      "needs_background": "light"
     },
     "output_type": "display_data"
    }
   ],
   "source": [
    "plt.figure(figsize = (15,8))\n",
    "Condition = data.groupby(\"Condition\").mean()[\"COVID-19 Deaths\"]\n",
    "Condition.plot(kind = \"bar\")"
   ]
  },
  {
   "cell_type": "markdown",
   "id": "ordinary-italic",
   "metadata": {},
   "source": [
    "We see that apart from covid-19 other conditions such as Influenza , heart problems , Respiratory problems, alsocontribute to covid deaths."
   ]
  },
  {
   "cell_type": "code",
   "execution_count": 6,
   "id": "noble-array",
   "metadata": {},
   "outputs": [
    {
     "data": {
      "text/plain": [
       "Cardiac arrhythmia                                                           10260\n",
       "Intentional and unintentional injury, poisoning, and other adverse events    10260\n",
       "Alzheimer disease                                                            10260\n",
       "Ischemic heart disease                                                       10260\n",
       "Heart failure                                                                10260\n",
       "Diabetes                                                                     10260\n",
       "Other diseases of the respiratory system                                     10260\n",
       "Other diseases of the circulatory system                                     10260\n",
       "Chronic lower respiratory diseases                                           10260\n",
       "All other conditions and causes (residual)                                   10260\n",
       "Adult respiratory distress syndrome                                          10260\n",
       "Hypertensive diseases                                                        10260\n",
       "Cerebrovascular diseases                                                     10260\n",
       "Renal failure                                                                10260\n",
       "Cardiac arrest                                                               10260\n",
       "Vascular and unspecified dementia                                            10260\n",
       "Influenza and pneumonia                                                      10260\n",
       "Sepsis                                                                       10260\n",
       "Respiratory arrest                                                           10260\n",
       "COVID-19                                                                     10260\n",
       "Obesity                                                                      10260\n",
       "Respiratory failure                                                          10260\n",
       "Malignant neoplasms                                                          10260\n",
       "Name: Condition, dtype: int64"
      ]
     },
     "execution_count": 6,
     "metadata": {},
     "output_type": "execute_result"
    }
   ],
   "source": [
    "data[\"Condition\"].value_counts()"
   ]
  },
  {
   "cell_type": "markdown",
   "id": "operational-trinity",
   "metadata": {},
   "source": [
    "## Part -2 "
   ]
  },
  {
   "cell_type": "markdown",
   "id": "important-buying",
   "metadata": {},
   "source": [
    "Knowing the age group of the conditions and grouping them accordingly."
   ]
  },
  {
   "cell_type": "code",
   "execution_count": 7,
   "id": "dental-poison",
   "metadata": {},
   "outputs": [],
   "source": [
    "import seaborn as sns"
   ]
  },
  {
   "cell_type": "code",
   "execution_count": 8,
   "id": "crazy-missile",
   "metadata": {},
   "outputs": [],
   "source": [
    "#making a new dataframe consisting of just the 4 groups which are common \"Respiratory diseases\",\"Circulatory diseases\",\"Diabetes\",\"COVID-19\"\n",
    "filter_list = [\"Respiratory diseases\",\"Circulatory diseases\",\"Diabetes\"]\n",
    "data1 = data[data[\"Condition Group\"].isin(filter_list)]\n",
    "# taking only 3 required columns\n",
    "data1 = data1[[\"Condition Group\",\"Age Group\",\"COVID-19 Deaths\"]]\n",
    "# removing the category \"Not stated\" from age group\n",
    "filterlist2 = [\"All Ages\",\"Not stated\"]\n",
    "data1 = data1[np.logical_not(data1[\"Age Group\"].isin(filterlist2))]"
   ]
  },
  {
   "cell_type": "code",
   "execution_count": 9,
   "id": "stock-affair",
   "metadata": {},
   "outputs": [
    {
     "data": {
      "text/plain": [
       "65-74    14364\n",
       "0-24     14364\n",
       "25-34    14364\n",
       "75-84    14364\n",
       "35-44    14364\n",
       "85+      14364\n",
       "45-54    14364\n",
       "55-64    14364\n",
       "Name: Age Group, dtype: int64"
      ]
     },
     "execution_count": 9,
     "metadata": {},
     "output_type": "execute_result"
    }
   ],
   "source": [
    "data1[\"Age Group\"].value_counts()"
   ]
  },
  {
   "cell_type": "code",
   "execution_count": 10,
   "id": "residential-replacement",
   "metadata": {},
   "outputs": [],
   "source": [
    "# getting ages from age-group\n",
    "import random\n",
    "ages = []\n",
    "for i in data1[\"Age Group\"]:\n",
    "    if i == \"0-24\":\n",
    "        ages.append(random.randint(0,24))\n",
    "    elif i==\"25-34\":\n",
    "        ages.append(random.randint(25,34))\n",
    "    elif i==\"35-44\":\n",
    "        ages.append(random.randint(35,44))\n",
    "    elif i==\"45-54\":\n",
    "        ages.append(random.randint(45,54))\n",
    "    elif i==\"55-64\":\n",
    "        ages.append(random.randint(55,64))\n",
    "    elif i==\"65-74\":\n",
    "        ages.append(random.randint(64,74))\n",
    "    elif i==\"75-84\":\n",
    "        ages.append(random.randint(75,84))\n",
    "    else:\n",
    "        ages.append(random.randint(85,90))"
   ]
  },
  {
   "cell_type": "code",
   "execution_count": 11,
   "id": "biological-romania",
   "metadata": {},
   "outputs": [],
   "source": [
    "data1[\"Age\"] = ages"
   ]
  },
  {
   "cell_type": "code",
   "execution_count": 12,
   "id": "aboriginal-letters",
   "metadata": {},
   "outputs": [
    {
     "data": {
      "text/html": [
       "<div>\n",
       "<style scoped>\n",
       "    .dataframe tbody tr th:only-of-type {\n",
       "        vertical-align: middle;\n",
       "    }\n",
       "\n",
       "    .dataframe tbody tr th {\n",
       "        vertical-align: top;\n",
       "    }\n",
       "\n",
       "    .dataframe thead th {\n",
       "        text-align: right;\n",
       "    }\n",
       "</style>\n",
       "<table border=\"1\" class=\"dataframe\">\n",
       "  <thead>\n",
       "    <tr style=\"text-align: right;\">\n",
       "      <th></th>\n",
       "      <th>Condition Group</th>\n",
       "      <th>Age Group</th>\n",
       "      <th>COVID-19 Deaths</th>\n",
       "      <th>Age</th>\n",
       "    </tr>\n",
       "  </thead>\n",
       "  <tbody>\n",
       "    <tr>\n",
       "      <th>0</th>\n",
       "      <td>Respiratory diseases</td>\n",
       "      <td>0-24</td>\n",
       "      <td>370.0</td>\n",
       "      <td>22</td>\n",
       "    </tr>\n",
       "    <tr>\n",
       "      <th>1</th>\n",
       "      <td>Respiratory diseases</td>\n",
       "      <td>25-34</td>\n",
       "      <td>1692.0</td>\n",
       "      <td>34</td>\n",
       "    </tr>\n",
       "    <tr>\n",
       "      <th>2</th>\n",
       "      <td>Respiratory diseases</td>\n",
       "      <td>35-44</td>\n",
       "      <td>4548.0</td>\n",
       "      <td>42</td>\n",
       "    </tr>\n",
       "    <tr>\n",
       "      <th>3</th>\n",
       "      <td>Respiratory diseases</td>\n",
       "      <td>45-54</td>\n",
       "      <td>13587.0</td>\n",
       "      <td>48</td>\n",
       "    </tr>\n",
       "    <tr>\n",
       "      <th>4</th>\n",
       "      <td>Respiratory diseases</td>\n",
       "      <td>55-64</td>\n",
       "      <td>34936.0</td>\n",
       "      <td>61</td>\n",
       "    </tr>\n",
       "    <tr>\n",
       "      <th>5</th>\n",
       "      <td>Respiratory diseases</td>\n",
       "      <td>65-74</td>\n",
       "      <td>61359.0</td>\n",
       "      <td>74</td>\n",
       "    </tr>\n",
       "    <tr>\n",
       "      <th>6</th>\n",
       "      <td>Respiratory diseases</td>\n",
       "      <td>75-84</td>\n",
       "      <td>71854.0</td>\n",
       "      <td>78</td>\n",
       "    </tr>\n",
       "    <tr>\n",
       "      <th>7</th>\n",
       "      <td>Respiratory diseases</td>\n",
       "      <td>85+</td>\n",
       "      <td>66033.0</td>\n",
       "      <td>86</td>\n",
       "    </tr>\n",
       "    <tr>\n",
       "      <th>10</th>\n",
       "      <td>Respiratory diseases</td>\n",
       "      <td>0-24</td>\n",
       "      <td>48.0</td>\n",
       "      <td>10</td>\n",
       "    </tr>\n",
       "    <tr>\n",
       "      <th>11</th>\n",
       "      <td>Respiratory diseases</td>\n",
       "      <td>25-34</td>\n",
       "      <td>154.0</td>\n",
       "      <td>32</td>\n",
       "    </tr>\n",
       "    <tr>\n",
       "      <th>12</th>\n",
       "      <td>Respiratory diseases</td>\n",
       "      <td>35-44</td>\n",
       "      <td>383.0</td>\n",
       "      <td>41</td>\n",
       "    </tr>\n",
       "    <tr>\n",
       "      <th>13</th>\n",
       "      <td>Respiratory diseases</td>\n",
       "      <td>45-54</td>\n",
       "      <td>1197.0</td>\n",
       "      <td>53</td>\n",
       "    </tr>\n",
       "    <tr>\n",
       "      <th>14</th>\n",
       "      <td>Respiratory diseases</td>\n",
       "      <td>55-64</td>\n",
       "      <td>4866.0</td>\n",
       "      <td>59</td>\n",
       "    </tr>\n",
       "    <tr>\n",
       "      <th>15</th>\n",
       "      <td>Respiratory diseases</td>\n",
       "      <td>65-74</td>\n",
       "      <td>12005.0</td>\n",
       "      <td>64</td>\n",
       "    </tr>\n",
       "    <tr>\n",
       "      <th>16</th>\n",
       "      <td>Respiratory diseases</td>\n",
       "      <td>75-84</td>\n",
       "      <td>16471.0</td>\n",
       "      <td>79</td>\n",
       "    </tr>\n",
       "    <tr>\n",
       "      <th>17</th>\n",
       "      <td>Respiratory diseases</td>\n",
       "      <td>85+</td>\n",
       "      <td>14045.0</td>\n",
       "      <td>87</td>\n",
       "    </tr>\n",
       "    <tr>\n",
       "      <th>20</th>\n",
       "      <td>Respiratory diseases</td>\n",
       "      <td>0-24</td>\n",
       "      <td>155.0</td>\n",
       "      <td>16</td>\n",
       "    </tr>\n",
       "    <tr>\n",
       "      <th>21</th>\n",
       "      <td>Respiratory diseases</td>\n",
       "      <td>25-34</td>\n",
       "      <td>592.0</td>\n",
       "      <td>26</td>\n",
       "    </tr>\n",
       "    <tr>\n",
       "      <th>22</th>\n",
       "      <td>Respiratory diseases</td>\n",
       "      <td>35-44</td>\n",
       "      <td>1596.0</td>\n",
       "      <td>41</td>\n",
       "    </tr>\n",
       "    <tr>\n",
       "      <th>23</th>\n",
       "      <td>Respiratory diseases</td>\n",
       "      <td>45-54</td>\n",
       "      <td>4755.0</td>\n",
       "      <td>45</td>\n",
       "    </tr>\n",
       "  </tbody>\n",
       "</table>\n",
       "</div>"
      ],
      "text/plain": [
       "         Condition Group Age Group  COVID-19 Deaths  Age\n",
       "0   Respiratory diseases      0-24            370.0   22\n",
       "1   Respiratory diseases     25-34           1692.0   34\n",
       "2   Respiratory diseases     35-44           4548.0   42\n",
       "3   Respiratory diseases     45-54          13587.0   48\n",
       "4   Respiratory diseases     55-64          34936.0   61\n",
       "5   Respiratory diseases     65-74          61359.0   74\n",
       "6   Respiratory diseases     75-84          71854.0   78\n",
       "7   Respiratory diseases       85+          66033.0   86\n",
       "10  Respiratory diseases      0-24             48.0   10\n",
       "11  Respiratory diseases     25-34            154.0   32\n",
       "12  Respiratory diseases     35-44            383.0   41\n",
       "13  Respiratory diseases     45-54           1197.0   53\n",
       "14  Respiratory diseases     55-64           4866.0   59\n",
       "15  Respiratory diseases     65-74          12005.0   64\n",
       "16  Respiratory diseases     75-84          16471.0   79\n",
       "17  Respiratory diseases       85+          14045.0   87\n",
       "20  Respiratory diseases      0-24            155.0   16\n",
       "21  Respiratory diseases     25-34            592.0   26\n",
       "22  Respiratory diseases     35-44           1596.0   41\n",
       "23  Respiratory diseases     45-54           4755.0   45"
      ]
     },
     "execution_count": 12,
     "metadata": {},
     "output_type": "execute_result"
    }
   ],
   "source": [
    "data1.head(20)"
   ]
  },
  {
   "cell_type": "code",
   "execution_count": 13,
   "id": "practical-moment",
   "metadata": {},
   "outputs": [
    {
     "data": {
      "text/plain": [
       "Condition Group\n",
       "Circulatory diseases    2253061.0\n",
       "Diabetes                 526012.0\n",
       "Respiratory diseases    3590279.0\n",
       "Name: COVID-19 Deaths, dtype: float64"
      ]
     },
     "execution_count": 13,
     "metadata": {},
     "output_type": "execute_result"
    }
   ],
   "source": [
    "data1.groupby(\"Condition Group\").sum()[\"COVID-19 Deaths\"]"
   ]
  },
  {
   "cell_type": "code",
   "execution_count": 14,
   "id": "authorized-porter",
   "metadata": {},
   "outputs": [
    {
     "data": {
      "text/plain": [
       "24904207.0"
      ]
     },
     "execution_count": 14,
     "metadata": {},
     "output_type": "execute_result"
    }
   ],
   "source": [
    "data[\"COVID-19 Deaths\"].sum()"
   ]
  },
  {
   "cell_type": "markdown",
   "id": "frequent-tyler",
   "metadata": {},
   "source": [
    "## Quick stats"
   ]
  },
  {
   "cell_type": "markdown",
   "id": "democratic-experience",
   "metadata": {},
   "source": [
    "- 9 percent of people who died by corona had circulatory diseases.\n",
    "\n",
    "- 2.1 percent of people had diabetes\n",
    "\n",
    "- 14 percent of people who died by corona had respiratory diseases"
   ]
  },
  {
   "cell_type": "code",
   "execution_count": 15,
   "id": "colored-collectible",
   "metadata": {},
   "outputs": [],
   "source": [
    "# getting this data into R\n",
    "data1.to_csv(\"Agegroup1.csv\")"
   ]
  }
 ],
 "metadata": {
  "kernelspec": {
   "display_name": "Python 3",
   "language": "python",
   "name": "python3"
  },
  "language_info": {
   "codemirror_mode": {
    "name": "ipython",
    "version": 3
   },
   "file_extension": ".py",
   "mimetype": "text/x-python",
   "name": "python",
   "nbconvert_exporter": "python",
   "pygments_lexer": "ipython3",
   "version": "3.6.9"
  }
 },
 "nbformat": 4,
 "nbformat_minor": 5
}
